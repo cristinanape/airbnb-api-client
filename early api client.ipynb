{
 "cells": [
  {
   "cell_type": "code",
   "execution_count": 35,
   "metadata": {
    "collapsed": false
   },
   "outputs": [],
   "source": [
    "rawjson = '''\n",
    "{\n",
    "  \"listing\": {\n",
    "    \"bathrooms\": 3,\n",
    "    \"bedrooms\": 3,\n",
    "    \"beds\": 3,\n",
    "    \"city\": \"Abiansemal\",\n",
    "    \"distance\": null,\n",
    "    \"extra_host_languages\": [\n",
    "      \"en\"\n",
    "    ],\n",
    "    \"id\": 798483,\n",
    "    \"instant_bookable\": false,\n",
    "    \"is_business_travel_ready\": false,\n",
    "    \"is_new_listing\": false,\n",
    "    \"lat\": -8.574250578447513,\n",
    "    \"listing_tags\": [],\n",
    "    \"lng\": 115.21325052389908,\n",
    "    \"localized_city\": \"Abiansemal\",\n",
    "    \"name\": \"Stunning All Bamboo House by River\",\n",
    "    \"neighborhood\": \"Bali\",\n",
    "    \"person_capacity\": 8,\n",
    "    \"picture_count\": 109,\n",
    "    \"picture_url\": \"https://a0.muscache.com/im/pictures/52149945/33130c63_original.jpg?aki_policy=large\",\n",
    "    \"primary_host\": {\n",
    "      \"first_name\": \"Di (Daniel)\",\n",
    "      \"has_profile_pic\": true,\n",
    "      \"id\": 4197735,\n",
    "      \"picture_url\": \"https://a0.muscache.com/im/users/4197735/profile_pic/1399550549/original.jpg?aki_policy=profile_x_medium\",\n",
    "      \"smart_name\": \"Di (Daniel)\",\n",
    "      \"thumbnail_url\": \"https://a0.muscache.com/im/users/4197735/profile_pic/1399550549/original.jpg?aki_policy=profile_small\",\n",
    "      \"is_superhost\": false\n",
    "    },\n",
    "    \"property_type\": \"House\",\n",
    "    \"property_type_id\": 2,\n",
    "    \"public_address\": \"Abiansemal, Bali, Indonesia\",\n",
    "    \"reviews_count\": 82,\n",
    "    \"room_type\": \"Entire home/apt\",\n",
    "    \"room_type_category\": \"entire_home\",\n",
    "    \"scrim_color\": \"#2E1207\",\n",
    "    \"star_rating\": 5,\n",
    "    \"thumbnail_url\": \"https://a0.muscache.com/im/pictures/52149945/33130c63_original.jpg?aki_policy=small\",\n",
    "    \"user\": {\n",
    "      \"first_name\": \"Di (Daniel)\",\n",
    "      \"has_profile_pic\": true,\n",
    "      \"id\": 4197735,\n",
    "      \"picture_url\": \"https://a0.muscache.com/im/users/4197735/profile_pic/1399550549/original.jpg?aki_policy=profile_x_medium\",\n",
    "      \"smart_name\": \"Di (Daniel)\",\n",
    "      \"thumbnail_url\": \"https://a0.muscache.com/im/users/4197735/profile_pic/1399550549/original.jpg?aki_policy=profile_small\",\n",
    "      \"is_superhost\": false\n",
    "    },\n",
    "    \"user_id\": 4197735,\n",
    "    \"xl_picture_url\": \"https://a0.muscache.com/im/pictures/52149945/33130c63_original.jpg?aki_policy=x_large\",\n",
    "    \"preview_encoded_png\": \"iVBORw0KGgoAAAANSUhEUgAAAAUAAAADCAIAAADUVFKvAAAAOUlEQVQIHWM0E+NkZmXh4+VjZfr75M1HxjALJdafn3R0NRiZme99+MIYbK7M/vedubn5x9dPRUQFAFK0EHs1UKoyAAAAAElFTkSuQmCC\",\n",
    "    \"picture_urls\": []\n",
    "  },\n",
    "  \"pricing_quote\": {\n",
    "    \"available\": false,\n",
    "    \"checkin\": null,\n",
    "    \"checkout\": null,\n",
    "    \"guests\": 1,\n",
    "    \"guest_details\": {\n",
    "      \"number_of_adults\": 1,\n",
    "      \"number_of_children\": 0,\n",
    "      \"number_of_infants\": 0\n",
    "    },\n",
    "    \"listing_currency\": \"USD\",\n",
    "    \"localized_currency\": \"USD\",\n",
    "    \"localized_nightly_price\": 335,\n",
    "    \"localized_service_fee\": 0,\n",
    "    \"localized_total_price\": 0,\n",
    "    \"long_term_discount_amount_as_guest\": 0,\n",
    "    \"nightly_price\": 325,\n",
    "    \"service_fee\": 0,\n",
    "    \"total_price\": 0\n",
    "  },\n",
    "  \"viewed_at\": null\n",
    "}\n",
    "'''"
   ]
  },
  {
   "cell_type": "code",
   "execution_count": 39,
   "metadata": {
    "collapsed": false
   },
   "outputs": [],
   "source": [
    "import json\n",
    "\n",
    "class dataResult:\n",
    "    id = 0\n",
    "    name = \"\"\n",
    "    host_id = 0\n",
    "    host_name = \"\"\n",
    "    neighborhood = \"\"\n",
    "    latitude = 0\n",
    "    longitude = 0\n",
    "    room_type = \"\"\n",
    "    price = 0\n",
    "    number_of_reviews = 0\n",
    "    host_listings_count = 0\n",
    "    \n",
    "    def __init__(self, search_api_record):\n",
    "        result_data = json.loads(search_api_record)\n",
    "        \n",
    "        self.id = result_data['listing']['id']\n",
    "        self.name = result_data['listing']['name']\n",
    "        self.host_id = result_data['listing']['primary_host']['id']\n",
    "        self.host_name = result_data['listing']['primary_host']['first_name']\n",
    "        self.neighborhood = result_data['listing']['neighborhood']\n",
    "        self.latitude = result_data['listing']['lat']\n",
    "        self.longitude = result_data['listing']['lng']\n",
    "        self.room_type = result_data['listing']['room_type']\n",
    "        self.price = result_data['pricing_quote']['nightly_price']\n",
    "        self.number_of_reviews = result_data['listing']['reviews_count']\n",
    "        # host_listings_count = ugh find this out\n",
    "\n",
    "        \n",
    "    def asRow(self):\n",
    "        return \",\".join([str(self.id), self.name, str(self.host_id), self.host_name, self.neighborhood,str(self.latitude), str(self.longitude), self.room_type, str(self.price), str(self.number_of_reviews), str(self.host_listings_count)])"
   ]
  },
  {
   "cell_type": "code",
   "execution_count": 37,
   "metadata": {
    "collapsed": false
   },
   "outputs": [
    {
     "name": "stdout",
     "output_type": "stream",
     "text": [
      "798483,Stunning All Bamboo House by River,4197735,Di (Daniel),Bali,-8.574250578447513,115.21325052389908,Entire home/apt,325,82,0\n"
     ]
    }
   ],
   "source": [
    "sample_row = dataResult(rawjson)\n",
    "print(sample_row.asRow())"
   ]
  },
  {
   "cell_type": "code",
   "execution_count": null,
   "metadata": {
    "collapsed": true
   },
   "outputs": [],
   "source": []
  }
 ],
 "metadata": {
  "kernelspec": {
   "display_name": "Python 3",
   "language": "python",
   "name": "python3"
  },
  "language_info": {
   "codemirror_mode": {
    "name": "ipython",
    "version": 3
   },
   "file_extension": ".py",
   "mimetype": "text/x-python",
   "name": "python",
   "nbconvert_exporter": "python",
   "pygments_lexer": "ipython3",
   "version": "3.5.2"
  }
 },
 "nbformat": 4,
 "nbformat_minor": 0
}
